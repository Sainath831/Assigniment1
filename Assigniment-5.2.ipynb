{
 "cells": [
  {
   "cell_type": "code",
   "execution_count": 1,
   "metadata": {},
   "outputs": [
    {
     "name": "stdout",
     "output_type": "stream",
     "text": [
      "{'a': [1, 2, 3], 's': 2, 'd': 3}\n"
     ]
    }
   ],
   "source": [
    "# WHAT IS DICTIONARY IN PYTHON ? EXPLAIN WITH EXAMPLE.\n",
    "\"\"\"\n",
    "In Python Dictionary is used to store the data in a key-value pair format.The dictionary is the data type in Python\n",
    "It is the mutable data-structure. The dictionary is defined into element Keys and values and it enclosed with the curly brackets\n",
    "{} and each key is saparated from its value by the colon (:)\n",
    "\n",
    "-> Keys must be a single element\n",
    "->Value can be any type such as list, tuple, integer, etc.\n",
    "\n",
    "\"\"\"\n",
    "# simple example of Dictionary\n",
    "di={\"a\":[1,2,3],\"s\":2,\"d\":3}\n",
    "print(di)"
   ]
  },
  {
   "cell_type": "code",
   "execution_count": 2,
   "metadata": {},
   "outputs": [
    {
     "name": "stdout",
     "output_type": "stream",
     "text": [
      "sum of the all items in list :  6\n"
     ]
    }
   ],
   "source": [
    "#py program on sum of all the items in a list\n",
    "li=[1,2,3]\n",
    "sum=0\n",
    "for i in li:\n",
    "    sum+=i\n",
    "print('sum of the all items in list : ',sum)    "
   ]
  },
  {
   "cell_type": "code",
   "execution_count": 3,
   "metadata": {},
   "outputs": [
    {
     "name": "stdout",
     "output_type": "stream",
     "text": [
      "enter the no of empty dictionaries5\n",
      "[{}, {}, {}, {}, {}]\n"
     ]
    }
   ],
   "source": [
    "#py program on To create a list of empty dictionaries\n",
    "n=int(input(\"enter the no of empty dictionaries\"))\n",
    "li=[{} for _ in range(n)]\n",
    "print(li)"
   ]
  },
  {
   "cell_type": "code",
   "execution_count": 4,
   "metadata": {},
   "outputs": [
    {
     "name": "stdout",
     "output_type": "stream",
     "text": [
      "enter the index :1\n",
      "Bangalore\n"
     ]
    }
   ],
   "source": [
    "#py program on to access dictionary keys element by index\n",
    "dic={ \"GITAM\":\"University\",\"Bangalore\":\"Branch\"}\n",
    "n=int(input(\"enter the index :\"))\n",
    "print(list(dic)[n])"
   ]
  },
  {
   "cell_type": "code",
   "execution_count": 5,
   "metadata": {},
   "outputs": [
    {
     "name": "stdout",
     "output_type": "stream",
     "text": [
      "key: a \tit's value: 1\n",
      "key: b \tit's value: 2\n",
      "key: c \tit's value: 3\n",
      "key: d \tit's value: 4\n"
     ]
    }
   ],
   "source": [
    "#py prgram on to iterate over dictionaries using loops\n",
    "dic={\"a\":1,\"b\":2,\"c\":3,\"d\":4}\n",
    "for i in dic:\n",
    "    print(\"key:\",i,\"\\tit's value:\",dic[i])"
   ]
  },
  {
   "cell_type": "code",
   "execution_count": 6,
   "metadata": {},
   "outputs": [
    {
     "name": "stdout",
     "output_type": "stream",
     "text": [
      "sum of the all values in dictionary is : 29\n"
     ]
    }
   ],
   "source": [
    "#py program on to sum of the all items in the dictionary\n",
    "d={1,3,12,8,3,5,}\n",
    "sum=0\n",
    "for i in d:\n",
    "    sum+=i\n",
    "print(\"sum of the all values in dictionary is :\",sum)   "
   ]
  },
  {
   "cell_type": "code",
   "execution_count": 7,
   "metadata": {},
   "outputs": [
    {
     "name": "stdout",
     "output_type": "stream",
     "text": [
      "concatenating all the dictionary: {10: 2, 12: 3, 1: 2, 3: 5, 6: 7, 8: 9}\n"
     ]
    }
   ],
   "source": [
    "# py program on the concatenate dictionary\n",
    "di1={1:2,3:5}\n",
    "di2={6:7,8:9}\n",
    "di3={10:2,12:3}\n",
    "di1.update(di2)\n",
    "di3.update(di1)\n",
    "dic=di3\n",
    "print(\"concatenating all the dictionary:\",dic)"
   ]
  },
  {
   "cell_type": "code",
   "execution_count": 8,
   "metadata": {},
   "outputs": [
    {
     "name": "stdout",
     "output_type": "stream",
     "text": [
      "emptytuple: ()\n",
      "after creating tuple: [1, 2, 3]\n"
     ]
    }
   ],
   "source": [
    "#py program on to create a tuple\n",
    "emptytuple=()\n",
    "print(\"emptytuple:\",emptytuple)\n",
    "tup=[1,2,3]\n",
    "print('after creating tuple:',tup)"
   ]
  },
  {
   "cell_type": "code",
   "execution_count": 9,
   "metadata": {},
   "outputs": [
    {
     "name": "stdout",
     "output_type": "stream",
     "text": [
      "tuple with diff datatypes: (1, 2, 3, 5, 'sai', 3.12)\n"
     ]
    }
   ],
   "source": [
    "#py program on To create tuple different data types\n",
    "li=[1,2,3,5,\"sai\",3.12]\n",
    "s=tuple(li)\n",
    "print(\"tuple with diff datatypes:\",s)"
   ]
  },
  {
   "cell_type": "code",
   "execution_count": 10,
   "metadata": {},
   "outputs": [
    {
     "name": "stdout",
     "output_type": "stream",
     "text": [
      "Befor converting to string: ('S', 'a', 'i', 'n', 'a', 't', 'h')\n",
      "After converting tuple to string: Sainath\n"
     ]
    }
   ],
   "source": [
    "#py program on to convert the string to tuple\n",
    "tuple1=('S','a','i','n','a','t','h',)\n",
    "print(\"Befor converting to string:\",tuple1)\n",
    "str=''\n",
    "for i in tuple1:\n",
    "    str+=i\n",
    "print(\"After converting tuple to string:\",str)    "
   ]
  },
  {
   "cell_type": "code",
   "execution_count": 11,
   "metadata": {},
   "outputs": [
    {
     "name": "stdout",
     "output_type": "stream",
     "text": [
      "(2, 3, 9, 6)\n",
      "(2, 3, 9, 6)\n",
      "(1, 2)\n",
      "(1, 2)\n"
     ]
    }
   ],
   "source": [
    "#py program on slice a tuple\n",
    "t=(1,2,3,9,6,5)\n",
    "print(t[1:5])\n",
    "print(t[-5:-1])\n",
    "print(t[0:2])\n",
    "print(t[-6:-4])"
   ]
  },
  {
   "cell_type": "code",
   "execution_count": 12,
   "metadata": {},
   "outputs": [
    {
     "name": "stdout",
     "output_type": "stream",
     "text": [
      "(1, 2, 3, 4, 2, 1, 3)\n",
      "length of the tuple : 7\n"
     ]
    }
   ],
   "source": [
    "#py program on to find length of a tuple\n",
    "li=[1,2,3,4,2,1,3]\n",
    "tupl=tuple(li)\n",
    "print(tupl)\n",
    "print(\"length of the tuple :\",len(tupl))"
   ]
  },
  {
   "cell_type": "code",
   "execution_count": 13,
   "metadata": {},
   "outputs": [
    {
     "name": "stdout",
     "output_type": "stream",
     "text": [
      "Before converting dictionary: ((1, 'a'), (2, 'b'), (3, 'c'), (4, 'd'))\n",
      "After converting dictionary: {1: 'a', 2: 'b', 3: 'c', 4: 'd'}\n"
     ]
    }
   ],
   "source": [
    "#py program on to convert tuple to a dictionary \n",
    "tuple1=((1,'a'),(2,'b'),(3,'c'),(4,'d'))\n",
    "print(\"Before converting dictionary:\",tuple1)\n",
    "print(\"After converting dictionary:\",dict(tuple1))"
   ]
  },
  {
   "cell_type": "code",
   "execution_count": 14,
   "metadata": {},
   "outputs": [
    {
     "name": "stdout",
     "output_type": "stream",
     "text": [
      "Befor Reverse the tuple: (1, 2, 3, 4, 5, 6, 7, 8)\n",
      "After Reverse the tuple: (8, 7, 6, 5, 4, 3, 2, 1)\n"
     ]
    }
   ],
   "source": [
    "#py program on reverse a tuple\n",
    "tupl=(1,2,3,4,5,6,7,8)\n",
    "print(\"Befor Reverse the tuple:\",tupl)\n",
    "R_tupl=()\n",
    "for i in reversed(tupl):\n",
    "    R_tupl+=(i,)\n",
    "print(\"After Reverse the tuple:\",R_tupl)    "
   ]
  },
  {
   "cell_type": "code",
   "execution_count": 15,
   "metadata": {},
   "outputs": [
    {
     "name": "stdout",
     "output_type": "stream",
     "text": [
      "list of tuples: [('x', 3), ('y', 2), ('z', 3), ('x', 12), ('y', 1), ('z', 18)]\n",
      "dictionary: {'x': [3, 12], 'y': [2, 1], 'z': [3, 18]}\n"
     ]
    }
   ],
   "source": [
    "#py program on the list of tuples into a dictionary\n",
    "li=[('x',3),('y',2),('z',3),(\"x\",12),('y',1),('z',18)]\n",
    "print(\"list of tuples:\",li)\n",
    "d={}\n",
    "for a,b in li:\n",
    "    d.setdefault(a,[]).append(b)\n",
    "print(\"dictionary:\",d) "
   ]
  },
  {
   "cell_type": "code",
   "execution_count": 16,
   "metadata": {},
   "outputs": [
    {
     "name": "stdout",
     "output_type": "stream",
     "text": [
      "list is : [1, 2, 3, 4, 5, 6, 7, 8]\n",
      "tuple of list is: (1, 2, 3, 4, 5, 6, 7, 8)\n"
     ]
    }
   ],
   "source": [
    "#py program on to convert a list to tuple\n",
    "li=[1,2,3,4,5,6,7,8]\n",
    "print(\"list is :\",li)\n",
    "print(\"tuple of list is:\",tuple(li))"
   ]
  },
  {
   "cell_type": "code",
   "execution_count": null,
   "metadata": {},
   "outputs": [],
   "source": []
  }
 ],
 "metadata": {
  "kernelspec": {
   "display_name": "Python 3",
   "language": "python",
   "name": "python3"
  },
  "language_info": {
   "codemirror_mode": {
    "name": "ipython",
    "version": 3
   },
   "file_extension": ".py",
   "mimetype": "text/x-python",
   "name": "python",
   "nbconvert_exporter": "python",
   "pygments_lexer": "ipython3",
   "version": "3.8.3"
  }
 },
 "nbformat": 4,
 "nbformat_minor": 4
}
