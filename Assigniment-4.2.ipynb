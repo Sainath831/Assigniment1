{
 "cells": [
  {
   "cell_type": "code",
   "execution_count": 1,
   "metadata": {},
   "outputs": [
    {
     "name": "stdout",
     "output_type": "stream",
     "text": [
      "list 1 is   : ['sai', 'gitam', 'CSE']\n",
      "copied list2 from list1 is  : ['sai', 'gitam', 'CSE']\n"
     ]
    }
   ],
   "source": [
    "#Python program on copy a list\n",
    "l1=['sai','gitam','CSE']\n",
    "l2=l1.copy()\n",
    "print(\"list 1 is   :\",l1)\n",
    "print('copied list2 from list1 is  :',l2)"
   ]
  },
  {
   "cell_type": "code",
   "execution_count": 2,
   "metadata": {},
   "outputs": [
    {
     "name": "stdout",
     "output_type": "stream",
     "text": [
      "after removing 0th,4th and 5th elements list is : ['GREEN', 'WHITE', 'BLACK']\n"
     ]
    }
   ],
   "source": [
    "#Python program on print the list after removing 0th,4th,and 5th elements in list\n",
    "li=['RED','GREEN','WHITE','BLACK','PINCK','YELLOW']\n",
    "del li[0]\n",
    "del li[3:5]\n",
    "print('after removing 0th,4th and 5th elements list is :',li)"
   ]
  },
  {
   "cell_type": "code",
   "execution_count": 3,
   "metadata": {},
   "outputs": [
    {
     "name": "stdout",
     "output_type": "stream",
     "text": [
      "after removing even num in list [1, 3, 5, 7, 9]\n"
     ]
    }
   ],
   "source": [
    "#Remove even number from list\n",
    "li=[1,2,3,4,5,6,7,8,9]\n",
    "for i in li:\n",
    "    if i%2==0:\n",
    "         li.remove(i)\n",
    "print('after removing even num in list',li)        \n",
    "        "
   ]
  },
  {
   "cell_type": "code",
   "execution_count": 4,
   "metadata": {},
   "outputs": [
    {
     "name": "stdout",
     "output_type": "stream",
     "text": [
      "original list [1, 2, 3, 4, 5, 6]\n",
      "shuffle list [1, 4, 6, 5, 2, 3]\n"
     ]
    }
   ],
   "source": [
    "#python program on to shuffle and print a specified list\n",
    "import random\n",
    "li=[1,2,3,4,5,6]\n",
    "print( 'original list',li)\n",
    "random.shuffle(li)\n",
    "print('shuffle list',li)"
   ]
  },
  {
   "cell_type": "code",
   "execution_count": 5,
   "metadata": {},
   "outputs": [
    {
     "name": "stdout",
     "output_type": "stream",
     "text": [
      "difference btw 2 list is : [3, 12, 1, 4, 3]\n"
     ]
    }
   ],
   "source": [
    "#python program on to get difference btw two list\n",
    "li_1=[12,23,2,6,7]\n",
    "li_2=[9,11,1,2,4]\n",
    "zippedlist=zip(li_1,li_2)\n",
    "diff=[x-y for (x,y) in zippedlist]\n",
    "print('difference btw 2 list is :', diff)"
   ]
  },
  {
   "cell_type": "code",
   "execution_count": null,
   "metadata": {},
   "outputs": [],
   "source": []
  }
 ],
 "metadata": {
  "kernelspec": {
   "display_name": "Python 3",
   "language": "python",
   "name": "python3"
  },
  "language_info": {
   "codemirror_mode": {
    "name": "ipython",
    "version": 3
   },
   "file_extension": ".py",
   "mimetype": "text/x-python",
   "name": "python",
   "nbconvert_exporter": "python",
   "pygments_lexer": "ipython3",
   "version": "3.8.3"
  }
 },
 "nbformat": 4,
 "nbformat_minor": 4
}
