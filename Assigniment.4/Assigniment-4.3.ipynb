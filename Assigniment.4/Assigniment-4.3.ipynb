{
 "cells": [
  {
   "cell_type": "code",
   "execution_count": 1,
   "metadata": {},
   "outputs": [
    {
     "name": "stdout",
     "output_type": "stream",
     "text": [
      "HI \n",
      "Namaste\n",
      " I am Sainath form GITAM University Bangalure\n",
      "This is a txt file for the  purpose of Assigniment submition.HI  Namaste\n",
      "\n"
     ]
    }
   ],
   "source": [
    "#py program on to read the entrie file\n",
    "fname=open(\"text.txt\")\n",
    "print(fname.read())"
   ]
  },
  {
   "cell_type": "code",
   "execution_count": 2,
   "metadata": {},
   "outputs": [
    {
     "name": "stdout",
     "output_type": "stream",
     "text": [
      "enter no_of lines:2\n",
      "['HI \\n', 'Namaste\\n']\n"
     ]
    }
   ],
   "source": [
    "#py program on to read the first nlines of a file\n",
    "n=int(input(\"enter no_of lines:\"))\n",
    "with open(\"text.txt\") as file:\n",
    "    r=[next(file) for x in range(n)]\n",
    "print(r)    "
   ]
  },
  {
   "cell_type": "code",
   "execution_count": 3,
   "metadata": {},
   "outputs": [
    {
     "name": "stdout",
     "output_type": "stream",
     "text": [
      "enter the string to append:....ok\n",
      "HI \n",
      "Namaste\n",
      " I am Sainath form GITAM University Bangalure\n",
      "This is a txt file for the  purpose of Assigniment submition.HI  Namaste\n",
      "....ok\n"
     ]
    }
   ],
   "source": [
    "#py program on to read the entrie file and append the string\n",
    "fn=open(\"text.txt\",\"a\")\n",
    "i=input(\"enter the string to append:\")\n",
    "fn.write(i)\n",
    "fn.close()\n",
    "fn=open(\"text.txt\",\"r\")\n",
    "print(fn.read())"
   ]
  },
  {
   "cell_type": "code",
   "execution_count": 4,
   "metadata": {},
   "outputs": [
    {
     "name": "stdout",
     "output_type": "stream",
     "text": [
      "enter the n:2\n",
      "['This is a txt file for the  purpose of Assigniment submition.HI  Namaste\\n', '....ok']\n"
     ]
    }
   ],
   "source": [
    "#py program on to read the last nlines of a file\n",
    "with open(\"text.txt\",\"r\") as fn:\n",
    "    l=fn.readlines()\n",
    "    s=len(l)\n",
    "n=int(input(\"enter the n:\"))\n",
    "print(l[(s-n):])\n",
    "    "
   ]
  },
  {
   "cell_type": "code",
   "execution_count": 5,
   "metadata": {},
   "outputs": [
    {
     "name": "stdout",
     "output_type": "stream",
     "text": [
      "HI  Namaste\n",
      "\n"
     ]
    }
   ],
   "source": [
    "# py program on to read the file line by line and store into a variable\n",
    "file=open(\"sai.txt\",\"r\")\n",
    "str=\"\"\n",
    "for i in file:\n",
    "    str+=i\n",
    "print(str)    "
   ]
  },
  {
   "cell_type": "code",
   "execution_count": 6,
   "metadata": {},
   "outputs": [
    {
     "name": "stdout",
     "output_type": "stream",
     "text": [
      "['HI  Namaste\\n']\n"
     ]
    }
   ],
   "source": [
    "#py program on to read the file and store into the list\n",
    "file=open(\"sai.txt\",\"r\")\n",
    "str=[]\n",
    "for i in file:\n",
    "    str.append(i)\n",
    "print(str)    "
   ]
  },
  {
   "cell_type": "code",
   "execution_count": 7,
   "metadata": {},
   "outputs": [
    {
     "name": "stdout",
     "output_type": "stream",
     "text": [
      "12\n"
     ]
    }
   ],
   "source": [
    "#py program on to get the file size of the plain file\n",
    "file=open(\"sai.txt\",\"r\")\n",
    "s=file.read()\n",
    "print(len(s))"
   ]
  },
  {
   "cell_type": "code",
   "execution_count": 8,
   "metadata": {},
   "outputs": [
    {
     "name": "stdout",
     "output_type": "stream",
     "text": [
      "1\n"
     ]
    }
   ],
   "source": [
    "#py program to count the no_of lines in a text file \n",
    "file=open(\"sai.txt\",\"r\")\n",
    "str=[]\n",
    "for i in file:\n",
    "    str.append(i)\n",
    "print(len(str))    "
   ]
  },
  {
   "cell_type": "code",
   "execution_count": 9,
   "metadata": {},
   "outputs": [
    {
     "name": "stdout",
     "output_type": "stream",
     "text": [
      "HI \n",
      "Namaste\n",
      " I am Sainath form GITAM University Bangalure\n",
      "This is a txt file for the  purpose of Assigniment submition.HI  Namaste\n",
      "....okHI  Namaste\n",
      "\n"
     ]
    }
   ],
   "source": [
    "#py program on to copy the content from one file to another file\n",
    "f2=open(\"text.txt\",\"a\")\n",
    "f1=open(\"sai.txt\",\"r\")\n",
    "for i in f1:\n",
    "    f2.write(i)\n",
    "f2.close()\n",
    "f2=open(\"text.txt\",\"r\")\n",
    "print(f2.read())\n"
   ]
  },
  {
   "cell_type": "code",
   "execution_count": 10,
   "metadata": {},
   "outputs": [
    {
     "name": "stdout",
     "output_type": "stream",
     "text": [
      "['HI  Namaste\\n']\n"
     ]
    }
   ],
   "source": [
    "# py program on Read line by line and store in an array\n",
    "with open (\"sai.txt\",\"r\") as fn:\n",
    "    sc=[]\n",
    "    for line in fn:\n",
    "        sc.append(line)\n",
    "print(sc)        "
   ]
  },
  {
   "cell_type": "code",
   "execution_count": null,
   "metadata": {},
   "outputs": [],
   "source": []
  }
 ],
 "metadata": {
  "kernelspec": {
   "display_name": "Python 3",
   "language": "python",
   "name": "python3"
  },
  "language_info": {
   "codemirror_mode": {
    "name": "ipython",
    "version": 3
   },
   "file_extension": ".py",
   "mimetype": "text/x-python",
   "name": "python",
   "nbconvert_exporter": "python",
   "pygments_lexer": "ipython3",
   "version": "3.8.3"
  }
 },
 "nbformat": 4,
 "nbformat_minor": 4
}
