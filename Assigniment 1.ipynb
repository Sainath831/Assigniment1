{
 "cells": [
  {
   "cell_type": "code",
   "execution_count": 17,
   "metadata": {},
   "outputs": [
    {
     "name": "stdout",
     "output_type": "stream",
     "text": [
      "enter the value of r:12\n",
      "area of circle is: 477.216\n"
     ]
    }
   ],
   "source": [
    "#area of circle\n",
    "pi=3.314\n",
    "r=float(input(\"enter the value of r:\"))\n",
    "ac=pi*r*r\n",
    "print(\"area of circle is:\",ac)"
   ]
  },
  {
   "cell_type": "code",
   "execution_count": 18,
   "metadata": {},
   "outputs": [
    {
     "name": "stdout",
     "output_type": "stream",
     "text": [
      "enter the lenght of rectangle:12\n",
      "enter the width of rectangle3\n",
      "display area of rectangale: 36.0\n"
     ]
    }
   ],
   "source": [
    "#area of Raectang\n",
    "l=float(input(\"enter the lenght of rectangle:\"))\n",
    "w=float(input(\"enter the width of rectangle\"))\n",
    "ar=l*w\n",
    "print(\"display area of rectangale:\",ar)"
   ]
  },
  {
   "cell_type": "code",
   "execution_count": 15,
   "metadata": {},
   "outputs": [
    {
     "name": "stdout",
     "output_type": "stream",
     "text": [
      "enter the side of square12\n",
      "perimeter of square is: 48\n"
     ]
    }
   ],
   "source": [
    "#perimeter of square\n",
    "s=int(input(\"enter the side of square\"))\n",
    "p=4*s\n",
    "print(\"perimeter of square is:\",p)"
   ]
  },
  {
   "cell_type": "code",
   "execution_count": 7,
   "metadata": {},
   "outputs": [
    {
     "name": "stdout",
     "output_type": "stream",
     "text": [
      "enter the value of r12\n",
      "circumference of circle is : 75.36\n"
     ]
    }
   ],
   "source": [
    "#circumference of circle\n",
    "r=int(input(\"enter the value of r\"))\n",
    "pi=3.14\n",
    "c=2*pi*r\n",
    "print(\"circumference of circle is :\",c)"
   ]
  },
  {
   "cell_type": "code",
   "execution_count": 14,
   "metadata": {},
   "outputs": [
    {
     "name": "stdout",
     "output_type": "stream",
     "text": [
      "enter a:12\n",
      "enter b:1\n",
      "display a and b is: 1 12\n"
     ]
    }
   ],
   "source": [
    "#swaping of two numbers\n",
    "a=int(input(\"enter a:\"))\n",
    "b=int(input(\"enter b:\"))\n",
    "temp=a\n",
    "a=b\n",
    "b=temp\n",
    "print(\"display a and b is:\",a,b)"
   ]
  },
  {
   "cell_type": "code",
   "execution_count": 21,
   "metadata": {},
   "outputs": [
    {
     "name": "stdout",
     "output_type": "stream",
     "text": [
      "enter the value of p:12\n",
      "enter the value of t:3\n",
      "enter the value of r:12\n",
      "display simple interst 4\n"
     ]
    }
   ],
   "source": [
    "#simple interst\n",
    "p=int(input(\"enter the value of p:\"))\n",
    "t=int(input(\"enter the value of t:\"))\n",
    "r=int(input(\"enter the value of r:\"))\n",
    "SI=(p*t*r)//100\n",
    "print(\"display simple interst\",SI)"
   ]
  },
  {
   "cell_type": "code",
   "execution_count": 27,
   "metadata": {},
   "outputs": [
    {
     "name": "stdout",
     "output_type": "stream",
     "text": [
      "enter tempature in celsisus:37.00\n",
      "display tempature in Fahrenheit: 98.6\n"
     ]
    }
   ],
   "source": [
    "#Converting on tempature in Celsius to Fahrenheit\n",
    "cel=float(input(\"enter tempature in celsisus:\"))\n",
    "fah=(cel * 9/5) + 32\n",
    "print(\"display tempature in Fahrenheit:\",fah)"
   ]
  },
  {
   "cell_type": "code",
   "execution_count": 1,
   "metadata": {},
   "outputs": [
    {
     "name": "stdout",
     "output_type": "stream",
     "text": [
      "enter the value of a:12\n",
      "enter the value of b:3\n",
      "enter the value of c:4\n",
      "area of tringle: (1.784229378797982e-15+29.138677046152935j)\n"
     ]
    }
   ],
   "source": [
    "#area of triangle\n",
    "a=int(input(\"enter the value of a:\"))\n",
    "b=int(input(\"enter the value of b:\"))\n",
    "c=int(input(\"enter the value of c:\"))\n",
    "s=(a+b+c)/2\n",
    "at=(s*(s-a)*(s-b)*(s-c)) ** 0.5\n",
    "print(\"area of tringle:\",at)"
   ]
  },
  {
   "cell_type": "code",
   "execution_count": 1,
   "metadata": {},
   "outputs": [
    {
     "name": "stdout",
     "output_type": "stream",
     "text": [
      "enter the value of a:12\n",
      "enter the value of b:3\n",
      "addition: 15\n",
      "sub: 9\n",
      "multipulation 36\n",
      "division 4.0\n",
      "modlus 0\n"
     ]
    }
   ],
   "source": [
    "#simple calculater\n",
    "a=int(input(\"enter the value of a:\"))\n",
    "b=int(input(\"enter the value of b:\"))\n",
    "print(\"addition:\",(a+b))\n",
    "print(\"sub:\",(a-b))\n",
    "print(\"multipulation\",(a*b))\n",
    "print(\"division\",(a/b))\n",
    "print(\"modlus\",(a%b))"
   ]
  }
 ],
 "metadata": {
  "kernelspec": {
   "display_name": "Python 3",
   "language": "python",
   "name": "python3"
  },
  "language_info": {
   "codemirror_mode": {
    "name": "ipython",
    "version": 3
   },
   "file_extension": ".py",
   "mimetype": "text/x-python",
   "name": "python",
   "nbconvert_exporter": "python",
   "pygments_lexer": "ipython3",
   "version": "3.8.3"
  }
 },
 "nbformat": 4,
 "nbformat_minor": 4
}
