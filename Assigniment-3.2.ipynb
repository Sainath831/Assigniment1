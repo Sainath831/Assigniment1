{
 "cells": [
  {
   "cell_type": "code",
   "execution_count": 1,
   "metadata": {},
   "outputs": [
    {
     "name": "stdout",
     "output_type": "stream",
     "text": [
      "enter the value of x:12\n",
      "enter the value of y:3\n",
      "12 and 3\n",
      "GCD of 12 and 3 is: 3\n"
     ]
    }
   ],
   "source": [
    "#python program on find GCD or HCF of two numbers\n",
    "x=int(input('enter the value of x:'))\n",
    "y=int(input('enter the value of y:'))\n",
    "print(x,'and',y)\n",
    "i=1\n",
    "while(i<=x and i<=y):\n",
    "    if(x%i==0 and y%i==0):\n",
    "        gcd=i\n",
    "    i=i+1\n",
    "print('GCD of',x,'and',y,'is:',gcd)    "
   ]
  },
  {
   "cell_type": "code",
   "execution_count": 2,
   "metadata": {},
   "outputs": [
    {
     "name": "stdout",
     "output_type": "stream",
     "text": [
      "enter the string:sai\n",
      "print the string that u entered the string: sai\n",
      "Reverse the string that u have entered    : ias \n"
     ]
    }
   ],
   "source": [
    "#python programm on enter the string and accepts and that reverse that string\n",
    "s=str(input('enter the string:'))\n",
    "print(\"print the string that u entered the string:\",s)\n",
    "sr=\" \"\n",
    "for i in s:\n",
    "    sr=i+sr\n",
    "print(\"Reverse the string that u have entered    :\",sr)\n"
   ]
  },
  {
   "cell_type": "code",
   "execution_count": 3,
   "metadata": {},
   "outputs": [
    {
     "name": "stdout",
     "output_type": "stream",
     "text": [
      "enter the number of the last digit:12\n",
      "Total no of even numbers in given series: 6\n",
      "Total no of odd numbers in given series : 6\n"
     ]
    }
   ],
   "source": [
    "#python program on the to count the noof even and odd number from a series of number  \n",
    "n=int(input('enter the number of the last digit:'))\n",
    "E_count,O_count=0,0\n",
    "for i in range(1,n+1):\n",
    "    if (i%2)==0:       \n",
    "        E_count+=1\n",
    "    else:\n",
    "        O_count+=1\n",
    "print(\"Total no of even numbers in given series:\",E_count)\n",
    "print(\"Total no of odd numbers in given series :\",O_count)    \n"
   ]
  },
  {
   "cell_type": "code",
   "execution_count": 4,
   "metadata": {},
   "outputs": [
    {
     "name": "stdout",
     "output_type": "stream",
     "text": [
      "0\n",
      "1\n",
      "2\n",
      "4\n",
      "5\n"
     ]
    }
   ],
   "source": [
    "#python program on print the number fron 0 to 6 expect 3 and 6\n",
    "for i in range(0,6):\n",
    "    if i!=3:\n",
    "        print(i)"
   ]
  },
  {
   "cell_type": "code",
   "execution_count": null,
   "metadata": {},
   "outputs": [],
   "source": []
  }
 ],
 "metadata": {
  "kernelspec": {
   "display_name": "Python 3",
   "language": "python",
   "name": "python3"
  },
  "language_info": {
   "codemirror_mode": {
    "name": "ipython",
    "version": 3
   },
   "file_extension": ".py",
   "mimetype": "text/x-python",
   "name": "python",
   "nbconvert_exporter": "python",
   "pygments_lexer": "ipython3",
   "version": "3.8.3"
  }
 },
 "nbformat": 4,
 "nbformat_minor": 4
}
