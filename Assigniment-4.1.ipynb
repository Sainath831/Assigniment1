{
 "cells": [
  {
   "cell_type": "code",
   "execution_count": 1,
   "metadata": {},
   "outputs": [
    {
     "name": "stdout",
     "output_type": "stream",
     "text": [
      "sum of nums in list: 10\n"
     ]
    }
   ],
   "source": [
    "#pyhton program on sum of items in the list\n",
    "sum=0\n",
    "li=[1,2,3,4]\n",
    "for i in li:\n",
    "    sum+=i\n",
    "print(\"sum of nums in list:\",sum)    "
   ]
  },
  {
   "cell_type": "code",
   "execution_count": 2,
   "metadata": {},
   "outputs": [
    {
     "name": "stdout",
     "output_type": "stream",
     "text": [
      "multplication of all numbers in list is: 24\n"
     ]
    }
   ],
   "source": [
    "# Multiplies all the items in the list\n",
    "mult=1\n",
    "li=[1,2,3,4]\n",
    "for i in li:\n",
    "    mult*=i\n",
    "print(\"multplication of all numbers in list is:\",mult)"
   ]
  },
  {
   "cell_type": "code",
   "execution_count": 3,
   "metadata": {},
   "outputs": [
    {
     "name": "stdout",
     "output_type": "stream",
     "text": [
      "minimum num form the list : 3\n",
      "maximum num form the list : 29\n"
     ]
    }
   ],
   "source": [
    "# largest and smallest numbers in list\n",
    "li=[3,4,5,17,18,29]\n",
    "print('minimum num form the list :',min(li))\n",
    "print('maximum num form the list :',max(li))"
   ]
  },
  {
   "cell_type": "code",
   "execution_count": 4,
   "metadata": {},
   "outputs": [
    {
     "name": "stdout",
     "output_type": "stream",
     "text": [
      "[1, 9, 2, 5, 3, 12, 13]\n"
     ]
    }
   ],
   "source": [
    "# Remove the duplicates from the list\n",
    "li=[1,1,9,1,2,5,2,3,12,12,13,3,]\n",
    "dup=set()\n",
    "uniq_num=[]\n",
    "for i in li:\n",
    "    if i not in dup:\n",
    "        uniq_num.append(i)\n",
    "        dup.add(i)\n",
    "print(uniq_num)       \n",
    "    "
   ]
  },
  {
   "cell_type": "code",
   "execution_count": 5,
   "metadata": {},
   "outputs": [
    {
     "name": "stdout",
     "output_type": "stream",
     "text": [
      " list is not Empty\n"
     ]
    }
   ],
   "source": [
    "#check the list is empty or not\n",
    "li=[1,2,3]\n",
    "if not li:\n",
    "    print(\"list is Empty\")\n",
    "else:\n",
    "    print(\" list is not Empty\")"
   ]
  },
  {
   "cell_type": "code",
   "execution_count": null,
   "metadata": {},
   "outputs": [],
   "source": []
  }
 ],
 "metadata": {
  "kernelspec": {
   "display_name": "Python 3",
   "language": "python",
   "name": "python3"
  },
  "language_info": {
   "codemirror_mode": {
    "name": "ipython",
    "version": 3
   },
   "file_extension": ".py",
   "mimetype": "text/x-python",
   "name": "python",
   "nbconvert_exporter": "python",
   "pygments_lexer": "ipython3",
   "version": "3.8.3"
  }
 },
 "nbformat": 4,
 "nbformat_minor": 4
}
