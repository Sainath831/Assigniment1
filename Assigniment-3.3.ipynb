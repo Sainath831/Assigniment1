{
 "cells": [
  {
   "cell_type": "code",
   "execution_count": 1,
   "metadata": {},
   "outputs": [
    {
     "name": "stdout",
     "output_type": "stream",
     "text": [
      "enter the string :sainath\n",
      "length of the give string is: 7\n"
     ]
    }
   ],
   "source": [
    "#python program on cal lenght of the string \n",
    "sr=str(input(\"enter the string :\"))\n",
    "\n",
    "print('length of the give string is:',len(sr))"
   ]
  },
  {
   "cell_type": "code",
   "execution_count": 2,
   "metadata": {},
   "outputs": [
    {
     "name": "stdout",
     "output_type": "stream",
     "text": [
      "enter the string :SaiNath😎\n",
      "convert the given string into upper case : SAINATH😎\n",
      "convert the given string into lower case : sainath😎\n"
     ]
    }
   ],
   "source": [
    "#python program on corting the string into upper and lower\n",
    "sr=str(input(\"enter the string :\"))\n",
    "print('convert the given string into upper case :',sr.upper())\n",
    "print('convert the given string into lower case :',sr.lower())"
   ]
  },
  {
   "cell_type": "code",
   "execution_count": 3,
   "metadata": {},
   "outputs": [
    {
     "name": "stdout",
     "output_type": "stream",
     "text": [
      "enter the string :SaiNath\n",
      "enter the character which do u want to know the repeatation:a\n",
      "count= 2\n"
     ]
    }
   ],
   "source": [
    "#python program on no of character is repeated in give string\n",
    "sr=str(input(\"enter the string :\"))\n",
    "de=str(input(\"enter the character which do u want to know the repeatation:\"))\n",
    "count=0\n",
    "for letter in sr:\n",
    "    if letter==de:\n",
    "        count+=1\n",
    "print('count=',count)        "
   ]
  },
  {
   "cell_type": "code",
   "execution_count": 4,
   "metadata": {},
   "outputs": [
    {
     "name": "stdout",
     "output_type": "stream",
     "text": [
      "enter the string:sai nath\n",
      "before converting string into list: sai nath\n",
      "after converting string into list : ['sai', 'nath']\n"
     ]
    }
   ],
   "source": [
    "#python programm on converting string into list\n",
    "sr=str(input(\"enter the string:\"))\n",
    "print('before converting string into list:',sr)\n",
    "li=list(sr.split(\" \"))\n",
    "print(\"after converting string into list :\",li)"
   ]
  },
  {
   "cell_type": "code",
   "execution_count": 5,
   "metadata": {},
   "outputs": [
    {
     "name": "stdout",
     "output_type": "stream",
     "text": [
      "enter the string :SaisNath😎\n",
      "enter the delation character of that number :3\n",
      "After delation character :  SaiNath😎\n"
     ]
    }
   ],
   "source": [
    "#python program on delection of character\n",
    "sr=str(input(\"enter the string :\"))\n",
    "dn=int(input(\"enter the delation character of that number :\"))\n",
    "new_sr=\" \"\n",
    "for i in range(len(sr)):\n",
    "    if i!=dn:\n",
    "        new_sr+=sr[i]\n",
    "print(\"After delation character :\",new_sr)"
   ]
  },
  {
   "cell_type": "code",
   "execution_count": 6,
   "metadata": {},
   "outputs": [
    {
     "name": "stdout",
     "output_type": "stream",
     "text": [
      "enter the string:sai call me as sai\n",
      "sai call me as sai\n",
      "enter the string that u want to know the repeatation in sr:sai\n",
      "occurrence of  sai  is: 2\n"
     ]
    }
   ],
   "source": [
    "#python program on to count occurrence of substring in the string\n",
    "sr=str(input(\"enter the string:\"))\n",
    "print(sr)\n",
    "sr1=str(input(\"enter the string that u want to know the repeatation in sr:\"))\n",
    "print(\"occurrence of \",sr1,\" is:\",sr.count(sr1))"
   ]
  },
  {
   "cell_type": "code",
   "execution_count": 7,
   "metadata": {},
   "outputs": [
    {
     "name": "stdout",
     "output_type": "stream",
     "text": [
      "enter the name:SaiNath😎\n",
      "S\n",
      "a\n",
      "i\n",
      "N\n",
      "a\n",
      "t\n",
      "h\n",
      "😎\n"
     ]
    }
   ],
   "source": [
    "#python prgram on to print string into line by line by character\n",
    "sr=str(input(\"enter the name:\"))\n",
    "i=0   \n",
    "while i<len(sr):\n",
    "    letter=sr[i]\n",
    "    print(letter)\n",
    "    i+=1"
   ]
  },
  {
   "cell_type": "code",
   "execution_count": 8,
   "metadata": {},
   "outputs": [
    {
     "name": "stdout",
     "output_type": "stream",
     "text": [
      "enter the name:refrigerator\n",
      "12\n"
     ]
    }
   ],
   "source": [
    "#python program on calculate the of the string without using len \n",
    "sr=str(input(\"enter the name:\"))\n",
    "i=0   \n",
    "while i<len(sr):\n",
    "    letter=sr[i]\n",
    "    i+=1\n",
    "print(i)    "
   ]
  },
  {
   "cell_type": "code",
   "execution_count": 9,
   "metadata": {},
   "outputs": [
    {
     "name": "stdout",
     "output_type": "stream",
     "text": [
      "jathon3\n",
      "pyva\n",
      "python3 java\n"
     ]
    }
   ],
   "source": [
    "#python program on get a single string from 2 string and swap the 2 character of two strings\n",
    "a=input()\n",
    "b=input()\n",
    "newa=b[:2]+a[2:]\n",
    "newb=a[:2]+b[2:]\n",
    "print(newa,newb)"
   ]
  },
  {
   "cell_type": "code",
   "execution_count": 11,
   "metadata": {},
   "outputs": [
    {
     "name": "stdout",
     "output_type": "stream",
     "text": [
      "I'm sai\n"
     ]
    }
   ],
   "source": [
    "#new line removal\n",
    "str=\"I'm sai\\n\"\n",
    "\n",
    "print(str.rstrip())"
   ]
  }
 ],
 "metadata": {
  "kernelspec": {
   "display_name": "Python 3",
   "language": "python",
   "name": "python3"
  },
  "language_info": {
   "codemirror_mode": {
    "name": "ipython",
    "version": 3
   },
   "file_extension": ".py",
   "mimetype": "text/x-python",
   "name": "python",
   "nbconvert_exporter": "python",
   "pygments_lexer": "ipython3",
   "version": "3.8.3"
  }
 },
 "nbformat": 4,
 "nbformat_minor": 4
}
