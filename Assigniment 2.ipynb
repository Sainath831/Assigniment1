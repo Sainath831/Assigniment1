{
 "cells": [
  {
   "cell_type": "code",
   "execution_count": 1,
   "metadata": {},
   "outputs": [
    {
     "name": "stdout",
     "output_type": "stream",
     "text": [
      "enter the age of voter:19\n",
      "he(or)she are eligiable to vote\n"
     ]
    }
   ],
   "source": [
    "#python program on he(or)she are eiligiable to vote or not\n",
    "age=int(input('enter the age of voter:'))\n",
    "if age>=18:\n",
    "    print(\"he(or)she are eligiable to vote\")\n",
    "else:\n",
    "    print(\"he(or)she are not eligiable to vote\")"
   ]
  },
  {
   "cell_type": "code",
   "execution_count": 3,
   "metadata": {},
   "outputs": [
    {
     "name": "stdout",
     "output_type": "stream",
     "text": [
      "enter the number:12\n",
      "12 is even number\n"
     ]
    }
   ],
   "source": [
    "#python program on given number is even or odd\n",
    "num=int(input('enter the number:'))\n",
    "if num%2==0:\n",
    "    print(num,\"is even number\")\n",
    "else:\n",
    "    print(num,\"is odd number\")"
   ]
  },
  {
   "cell_type": "code",
   "execution_count": 1,
   "metadata": {},
   "outputs": [
    {
     "name": "stdout",
     "output_type": "stream",
     "text": [
      "enter th evalue of num12\n",
      "12 is positive\n"
     ]
    }
   ],
   "source": [
    "#python program on given number is positive or not\n",
    "num=int(input('enter th evalue of num'))\n",
    "if num>=1:\n",
    "    print(num,'is positive')\n",
    "else:\n",
    "    print(num,'is not positive')"
   ]
  },
  {
   "cell_type": "code",
   "execution_count": 6,
   "metadata": {},
   "outputs": [
    {
     "name": "stdout",
     "output_type": "stream",
     "text": [
      "enter th evalue of num123\n",
      "123 is positive\n"
     ]
    }
   ],
   "source": [
    "#python program on given integer is positive or negative or zero\n",
    "num=int(input('enter th evalue of num'))\n",
    "if num>=1:\n",
    "    print(num,'is positive')\n",
    "elif num<0:\n",
    "    print(num,'is negative')\n",
    "else:\n",
    "    print(num,'is equal to zero')\n",
    "    \n",
    "    "
   ]
  },
  {
   "cell_type": "code",
   "execution_count": 9,
   "metadata": {},
   "outputs": [
    {
     "name": "stdout",
     "output_type": "stream",
     "text": [
      "enter the number:123\n",
      "123 is prime number\n"
     ]
    }
   ],
   "source": [
    "#python program on given number is prime number or not\n",
    "num=int(input(\"enter the number:\"))\n",
    "if num > 1:\n",
    "    for i in range(2, num//2):\n",
    "        if (num%i) == 0:\n",
    "            print(num,' is not prime number')\n",
    "            break\n",
    "        else:\n",
    "            print(num,'is prime number')\n",
    "            break\n",
    "else:\n",
    "    print(num,'is not prime number')\n",
    "        \n",
    "        "
   ]
  },
  {
   "cell_type": "code",
   "execution_count": 7,
   "metadata": {},
   "outputs": [
    {
     "name": "stdout",
     "output_type": "stream",
     "text": [
      "enter the charater:A\n",
      "A is vowel\n"
     ]
    }
   ],
   "source": [
    "# python program on given char is vowel or not\n",
    "ch=input(\"enter the charater:\")\n",
    "if (ch=='a'or'A'or'e'or'E' or 'i'or 'I'or 'o'or'O' or'u'or'U'):\n",
    "    print(ch,'is vowel')\n",
    "else:\n",
    "    print(ch,\"is consonant\")"
   ]
  },
  {
   "cell_type": "code",
   "execution_count": 8,
   "metadata": {},
   "outputs": [
    {
     "name": "stdout",
     "output_type": "stream",
     "text": [
      "enter the num:3\n",
      "three\n"
     ]
    }
   ],
   "source": [
    "#program on accept number b/w 1 to 5 and print in words\n",
    "a=int(input('enter the num:'))\n",
    "if a <=5:\n",
    "    if a==1:\n",
    "        print('one')\n",
    "    elif a==2:\n",
    "        print('two')\n",
    "    elif a==3:\n",
    "        print('three')\n",
    "    elif a==4:\n",
    "        print('four') \n",
    "    else:\n",
    "        print('five')\n",
    "else:\n",
    "    print(\"enter the b/w 0 to 5\")"
   ]
  },
  {
   "cell_type": "code",
   "execution_count": 2,
   "metadata": {},
   "outputs": [
    {
     "name": "stdout",
     "output_type": "stream",
     "text": [
      "quadratic equation:a*x^2+b*x+c\n",
      "enter the value of a:13\n",
      "enter the value of b:2\n",
      "enter the value of c:5\n",
      "Roots are imaginary\n",
      "The roots are:( -0.07692307692307693 + (0.6153846153846154+0j) ) and ( -0.07692307692307693 - (0.6153846153846154+0j) )\n"
     ]
    }
   ],
   "source": [
    "#python program on to find roots of quadratic equations\n",
    "from cmath import sqrt\n",
    "print(\"quadratic equation:a*x^2+b*x+c\")\n",
    "a=float(input('enter the value of a:'))\n",
    "b=float(input('enter the value of b:'))\n",
    "c=float(input('enter the value of c:'))\n",
    "d=(b**2)-(4*a*c)\n",
    "if a>0:\n",
    "    if d > 0:\n",
    "        print('Roots are Real and Distinct')\n",
    "        num_roots=2\n",
    "        x1=((-b)+sqrt(d))/(2*a)\n",
    "        x2=((-b)-sqrt(d))/(2*a)\n",
    "        print(\"The roots are:\",x1,'and',x2)\n",
    "    elif d==0:\n",
    "        print('Roots are real and equal')\n",
    "        num_roots=1\n",
    "        x1=x2=((-b)/(2*a))\n",
    "        print(\" The root are :\",x1,'and',x2)\n",
    "    else:\n",
    "        num_roots=0\n",
    "        print(\"Roots are imaginary\")\n",
    "        r=-b/(2*a)\n",
    "        i=sqrt(-d)/(2*a)\n",
    "        print('The roots are:(',r,'+',i,') and (',r,'-',i,')',)\n",
    "else:\n",
    "    print(\"given quadratic equation is linear equation \")"
   ]
  },
  {
   "cell_type": "code",
   "execution_count": null,
   "metadata": {},
   "outputs": [],
   "source": []
  }
 ],
 "metadata": {
  "kernelspec": {
   "display_name": "Python 3",
   "language": "python",
   "name": "python3"
  },
  "language_info": {
   "codemirror_mode": {
    "name": "ipython",
    "version": 3
   },
   "file_extension": ".py",
   "mimetype": "text/x-python",
   "name": "python",
   "nbconvert_exporter": "python",
   "pygments_lexer": "ipython3",
   "version": "3.8.3"
  }
 },
 "nbformat": 4,
 "nbformat_minor": 4
}
